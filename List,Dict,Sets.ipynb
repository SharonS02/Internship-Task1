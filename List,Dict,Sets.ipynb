{
 "cells": [
  {
   "cell_type": "code",
   "execution_count": null,
   "metadata": {},
   "outputs": [],
   "source": [
    "#Write a Python program to create a list, a dictionary, and a set. Perform basic operations like adding, removing, and modifying elements."
   ]
  },
  {
   "cell_type": "code",
   "execution_count": 2,
   "metadata": {},
   "outputs": [
    {
     "name": "stdout",
     "output_type": "stream",
     "text": [
      "Initial List: [1, 2, 3, 4, 5]\n",
      "List after adding 6: [1, 2, 3, 4, 5, 6]\n",
      "List after removing 3: [1, 2, 4, 5, 6]\n",
      "List after modifying first element to 10: [10, 2, 4, 5, 6]\n"
     ]
    }
   ],
   "source": [
    "# Creating a list\n",
    "my_list = [1, 2, 3, 4, 5]\n",
    "print(\"Initial List:\", my_list)\n",
    "\n",
    "# Adding elements to the list\n",
    "my_list.append(6)\n",
    "print(\"List after adding 6:\", my_list)\n",
    "\n",
    "# Removing an element from the list\n",
    "my_list.remove(3)\n",
    "print(\"List after removing 3:\", my_list)\n",
    "\n",
    "# Modifying an element in the list\n",
    "my_list[0] = 10\n",
    "print(\"List after modifying first element to 10:\", my_list)\n",
    "\n"
   ]
  },
  {
   "cell_type": "code",
   "execution_count": 3,
   "metadata": {},
   "outputs": [
    {
     "name": "stdout",
     "output_type": "stream",
     "text": [
      "\n",
      "Initial Dictionary: {'name': 'Alice', 'age': 25, 'city': 'New York'}\n",
      "Dictionary after adding occupation: {'name': 'Alice', 'age': 25, 'city': 'New York', 'occupation': 'Engineer'}\n",
      "Dictionary after removing age: {'name': 'Alice', 'city': 'New York', 'occupation': 'Engineer'}\n",
      "Dictionary after modifying city: {'name': 'Alice', 'city': 'San Francisco', 'occupation': 'Engineer'}\n"
     ]
    }
   ],
   "source": [
    "# Creating a dictionary\n",
    "my_dict = {'name': 'Alice', 'age': 25, 'city': 'New York'}\n",
    "print(\"\\nInitial Dictionary:\", my_dict)\n",
    "\n",
    "# Adding an element to the dictionary\n",
    "my_dict['occupation'] = 'Engineer'\n",
    "print(\"Dictionary after adding occupation:\", my_dict)\n",
    "\n",
    "# Removing an element from the dictionary\n",
    "del my_dict['age']\n",
    "print(\"Dictionary after removing age:\", my_dict)\n",
    "\n",
    "# Modifying an element in the dictionary\n",
    "my_dict['city'] = 'San Francisco'\n",
    "print(\"Dictionary after modifying city:\", my_dict)"
   ]
  },
  {
   "cell_type": "code",
   "execution_count": 4,
   "metadata": {},
   "outputs": [
    {
     "name": "stdout",
     "output_type": "stream",
     "text": [
      "\n",
      "Initial Set: {1, 2, 3}\n",
      "Set after adding 4: {1, 2, 3, 4}\n",
      "Set after removing 2: {1, 3, 4}\n",
      "Set after trying to add duplicate 3: {1, 3, 4}\n"
     ]
    }
   ],
   "source": [
    "# Creating a set\n",
    "my_set = {1, 2, 3}\n",
    "print(\"\\nInitial Set:\", my_set)\n",
    "\n",
    "# Adding elements to the set\n",
    "my_set.add(4)\n",
    "print(\"Set after adding 4:\", my_set)\n",
    "\n",
    "# Removing an element from the set\n",
    "my_set.discard(2)  # discard won't raise an error if the element is not found\n",
    "print(\"Set after removing 2:\", my_set)\n",
    "\n",
    "# Trying to add a duplicate element (sets ignore duplicates)\n",
    "my_set.add(3)\n",
    "print(\"Set after trying to add duplicate 3:\", my_set)\n"
   ]
  }
 ],
 "metadata": {
  "kernelspec": {
   "display_name": "Python 3",
   "language": "python",
   "name": "python3"
  },
  "language_info": {
   "codemirror_mode": {
    "name": "ipython",
    "version": 3
   },
   "file_extension": ".py",
   "mimetype": "text/x-python",
   "name": "python",
   "nbconvert_exporter": "python",
   "pygments_lexer": "ipython3",
   "version": "3.10.11"
  }
 },
 "nbformat": 4,
 "nbformat_minor": 2
}
